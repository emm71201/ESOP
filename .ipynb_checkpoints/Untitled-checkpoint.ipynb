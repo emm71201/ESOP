{
 "cells": [
  {
   "cell_type": "code",
   "execution_count": 29,
   "id": "0f10ef07",
   "metadata": {},
   "outputs": [],
   "source": [
    "from esop_opt import BF\n",
    "from cube import Cube\n",
    "from esop import ESOP\n",
    "from input_string import BString\n",
    "from helpers import *\n",
    "from numpy import binary_repr, load, save\n",
    "from numpy import array as nparray\n",
    "from numpy import zeros as npzeros\n",
    "from numpy import append as npappend\n",
    "import string\n",
    "import numpy.linalg as nplinalg\n",
    "import numpy as np\n",
    "import os\n",
    "from itertools import product as itproduct\n",
    "import networkx as nx"
   ]
  },
  {
   "cell_type": "code",
   "execution_count": 16,
   "id": "33fcbce0",
   "metadata": {},
   "outputs": [],
   "source": [
    "anf2 = \"f^n^(d&p)^(e&m)^(e&n)^(e&o)^(f&m)^(f&o)^(f&p)^(c&m&p)^(c&n&p)^(c&o&p)^(d&m&p)^(d&o&p)^(e&f&n)^(e&m&p)^(e&n&o)^(e&n&p)^(e&o&p)^(f&m&n)^(f&m&p)^(f&n&o)^(f&o&p)^(c&d&n&p)^(c&n&o&p)^(d&m&n&p)^(d&n&o&p)^(e&f&n&p)^(e&m&n&o)^(e&n&o&p)^(f&m&n&o)^(f&m&n&p)^(f&n&o&p)^(c&m&n&o&p)^(d&m&n&o&p)^(e&m&n&o&p)^(f&m&n&o&p)\""
   ]
  },
  {
   "cell_type": "code",
   "execution_count": 56,
   "id": "b3aeea08",
   "metadata": {},
   "outputs": [],
   "source": [
    "n = 16\n",
    "def parse_anf(n, anf):\n",
    "    cubes = []\n",
    "    for term in anf.split(\"^\"):\n",
    "        tmp = [\"-\"]*n\n",
    "        for ch in term:\n",
    "            if ch not in [\")\", \"(\", \"&\"]:\n",
    "                indx = string.ascii_lowercase.index(ch)\n",
    "                tmp[indx] = \"1\"\n",
    "        cubes.append(Cube(\"\".join(tmp)))\n",
    "    \n",
    "    return cubes\n",
    "            \n",
    "esop = ESOP(parse_anf(n, anf2))"
   ]
  },
  {
   "cell_type": "code",
   "execution_count": 57,
   "id": "07b1be26",
   "metadata": {},
   "outputs": [],
   "source": [
    "esop_reduced = ESOP(esop.reduce())"
   ]
  },
  {
   "cell_type": "code",
   "execution_count": 58,
   "id": "5bc45eaf",
   "metadata": {},
   "outputs": [],
   "source": [
    "table = load(\"cache/mtable_s108.npy\")"
   ]
  },
  {
   "cell_type": "code",
   "execution_count": 59,
   "id": "27f89ad4",
   "metadata": {},
   "outputs": [
    {
     "data": {
      "image/png": "[encoded data removed]",
      "text/plain": [
       "<Figure size 432x288 with 1 Axes>"
      ]
     },
     "metadata": {},
     "output_type": "display_data"
    }
   ],
   "source": [
    "nx.draw(esop_reduced.combination_graph())"
   ]
  },
  {
   "cell_type": "code",
   "execution_count": 60,
   "id": "f0172274",
   "metadata": {},
   "outputs": [
    {
     "name": "stdout",
     "output_type": "stream",
     "text": [
      "x2 & x12 & x15\n",
      "x4 & x14 & x15\n",
      "x2 & x12 & x13 & x14 & x15\n",
      "~x4 & x13 \n",
      "x3 & ~x12 & x15\n",
      "x4 & x12 & ~x15\n",
      "x4 & ~x13 & x14 \n",
      "x2 & ~x3 & x13 & x15\n",
      "x2 & ~x13 & x14 & x15\n",
      "x3 & ~x13 & x14 & x15\n",
      "x4 & x5 & x13 & ~x15\n",
      "x4 & x13 & ~x14 & x15\n",
      "x3 & x12 & x13 & ~x14 & x15\n",
      "x4 & x12 & x13 & x14 & ~x15\n",
      "x5 & ~x12 & ~x15\n",
      "x5 & ~x13 & x14 & ~x15\n",
      "x5 & x12 & x13 & ~x14 & ~x15\n"
     ]
    }
   ],
   "source": [
    "for cube in esop.reduce():\n",
    "    print(cube)"
   ]
  },
  {
   "cell_type": "code",
   "execution_count": 61,
   "id": "8ee41e6f",
   "metadata": {},
   "outputs": [
    {
     "name": "stdout",
     "output_type": "stream",
     "text": [
      "x5 \n",
      "x13 \n",
      "x3 & x15\n",
      "x4 & x12 \n",
      "x4 & x13 \n",
      "x4 & x14 \n",
      "x5 & x12 \n",
      "x5 & x14 \n",
      "x5 & x15\n",
      "x2 & x12 & x15\n",
      "x2 & x13 & x15\n",
      "x2 & x14 & x15\n",
      "x3 & x12 & x15\n",
      "x3 & x14 & x15\n",
      "x4 & x5 & x13 \n",
      "x4 & x12 & x15\n",
      "x4 & x13 & x14 \n",
      "x4 & x13 & x15\n",
      "x4 & x14 & x15\n",
      "x5 & x12 & x13 \n",
      "x5 & x12 & x15\n",
      "x5 & x13 & x14 \n",
      "x5 & x14 & x15\n",
      "x2 & x3 & x13 & x15\n",
      "x2 & x13 & x14 & x15\n",
      "x3 & x12 & x13 & x15\n",
      "x3 & x13 & x14 & x15\n",
      "x4 & x5 & x13 & x15\n",
      "x4 & x12 & x13 & x14 \n",
      "x4 & x13 & x14 & x15\n",
      "x5 & x12 & x13 & x14 \n",
      "x5 & x12 & x13 & x15\n",
      "x5 & x13 & x14 & x15\n",
      "x2 & x12 & x13 & x14 & x15\n",
      "x3 & x12 & x13 & x14 & x15\n",
      "x4 & x12 & x13 & x14 & x15\n",
      "x5 & x12 & x13 & x14 & x15\n"
     ]
    }
   ],
   "source": [
    "for cube in esop.cubes:\n",
    "    print(cube)"
   ]
  },
  {
   "cell_type": "code",
   "execution_count": 102,
   "id": "9e519182",
   "metadata": {},
   "outputs": [],
   "source": [
    "def exmin2_operations(cube1, cube2):\n",
    "    \n",
    "    assert len(cube1) == len(cube2)\n",
    "    operation_keys = {\"11-0\":(\"00\", \"1-\"), \"1--1\":(\"0-\", \"-0\"),\\\n",
    "                     \"1001\":(\"1-\", \"-1\"), \"11-0\":(\"--\", \"01\")}\n",
    "    \n",
    "    different_bits = []\n",
    "    for i in range(len(cube1)):\n",
    "        if cube1.expression[i] != cube2.expression[i]:\n",
    "            different_bits.append(i)\n",
    "    \n",
    "    keymap = cube1.expression[different_bits[0]] + cube1.expression[different_bits[1]] + \\\n",
    "    cube2.expression[different_bits[0]] + cube2.expression[different_bits[1]]\n",
    "    \n",
    "    new_vals1, new_vals2 = operation_keys.get(keymap, (None, None))\n",
    "    \n",
    "    \n",
    "    if new_vals1 and new_vals2:\n",
    "        \n",
    "        \n",
    "        new_expr1 = [item for item in cube1.expression]\n",
    "        new_expr1[different_bits[0]] = new_vals1[0]\n",
    "        new_expr1[different_bits[1]] = new_vals1[1]\n",
    "\n",
    "        new_expr2 = [item for item in cube2.expression]\n",
    "        new_expr2[different_bits[0]] = new_vals2[0]\n",
    "        new_expr2[different_bits[1]] = new_vals2[1]\n",
    "         \n",
    "    \n",
    "    else:\n",
    "        return None, None\n",
    "            \n",
    "            \n",
    "    return Cube(\"\".join(new_expr1)), Cube(\"\".join(new_expr2))"
   ]
  },
  {
   "cell_type": "code",
   "execution_count": 104,
   "id": "946d5d99",
   "metadata": {},
   "outputs": [],
   "source": [
    "c1,c2 = exmin2_operations(esop.cubes[3], esop.cubes[4])"
   ]
  },
  {
   "cell_type": "code",
   "execution_count": 105,
   "id": "122be3c8",
   "metadata": {},
   "outputs": [
    {
     "name": "stdout",
     "output_type": "stream",
     "text": [
      "x4 & ~x12 \n"
     ]
    }
   ],
   "source": [
    "print(c1)"
   ]
  },
  {
   "cell_type": "code",
   "execution_count": 106,
   "id": "4155427a",
   "metadata": {},
   "outputs": [
    {
     "name": "stdout",
     "output_type": "stream",
     "text": [
      "x4 & ~x13 \n"
     ]
    }
   ],
   "source": [
    "def get_distance2(esop):\n",
    "    G = esop.combination_graph()\n",
    "    cubes = []\n",
    "    \n",
    "    for i in range()"
   ]
  },
  {
   "cell_type": "code",
   "execution_count": null,
   "id": "728ab7a0",
   "metadata": {},
   "outputs": [],
   "source": [
    "def exmin2(esop):\n",
    "    \n",
    "    "
   ]
  },
  {
   "cell_type": "code",
   "execution_count": null,
   "id": "6bfbd972",
   "metadata": {},
   "outputs": [],
   "source": []
  }
 ],
 "metadata": {
  "kernelspec": {
   "display_name": "Python 3 (ipykernel)",
   "language": "python",
   "name": "python3"
  },
  "language_info": {
   "codemirror_mode": {
    "name": "ipython",
    "version": 3
   },
   "file_extension": ".py",
   "mimetype": "text/x-python",
   "name": "python",
   "nbconvert_exporter": "python",
   "pygments_lexer": "ipython3",
   "version": "3.9.7"
  }
 },
 "nbformat": 4,
 "nbformat_minor": 5
}
